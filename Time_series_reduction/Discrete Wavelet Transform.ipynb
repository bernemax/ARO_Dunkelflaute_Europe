{
 "cells": [
  {
   "cell_type": "code",
   "execution_count": 36,
   "id": "f214454b",
   "metadata": {},
   "outputs": [],
   "source": [
    "import pandas as pd\n",
    "import pywt\n",
    "\n",
    "# Laden Sie den Dataframe\n",
    "df = pd.read_excel(\"Test_AT.xlsx\")\n",
    "\n",
    "# Führen Sie den DWT auf der Spalte \"CF\" durch\n",
    "coeffs = pywt.wavedec(df['load'], 'db4')\n",
    "\n",
    "n = len(coeffs) // 1\n",
    "coeffs_reduced = coeffs[:n]\n",
    "\n",
    "# Führen Sie den Inverse DWT durch, um die reduzierte Zeitreihe zu erhalten\n",
    "reduced_cf = pywt.waverec(coeffs_reduced, 'db4')\n",
    "\n",
    "# Speichern Sie die reduzierte Zeitreihe in den Dataframe\n",
    "df_reduced = pd.DataFrame({'reduced_load': reduced_cf})\n",
    "\n",
    "# Speichern Sie den verkleinerten Dataframe\n",
    "df_reduced.to_excel(\"reduced_AT.xlsx\", index=False)\n"
   ]
  },
  {
   "cell_type": "code",
   "execution_count": null,
   "id": "d65dcb11",
   "metadata": {},
   "outputs": [],
   "source": []
  }
 ],
 "metadata": {
  "kernelspec": {
   "display_name": "Python 3 (ipykernel)",
   "language": "python",
   "name": "python3"
  },
  "language_info": {
   "codemirror_mode": {
    "name": "ipython",
    "version": 3
   },
   "file_extension": ".py",
   "mimetype": "text/x-python",
   "name": "python",
   "nbconvert_exporter": "python",
   "pygments_lexer": "ipython3",
   "version": "3.9.15"
  }
 },
 "nbformat": 4,
 "nbformat_minor": 5
}
