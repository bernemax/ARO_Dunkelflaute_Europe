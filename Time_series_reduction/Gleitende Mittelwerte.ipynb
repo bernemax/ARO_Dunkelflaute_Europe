{
 "cells": [
  {
   "cell_type": "code",
   "execution_count": 5,
   "id": "e6124b43",
   "metadata": {},
   "outputs": [],
   "source": [
    "import pandas as pd\n",
    "\n",
    "# Laden Sie den Dataframe\n",
    "df = pd.read_excel(\"Test_AT_PV.xlsx\")\n",
    "\n",
    "# Berechnen Sie den gleitenden Mittelwert mit einem Fenster von n Schritten\n",
    "n = 8760 // 500 # Anzahl der Schritte pro neuen Schritt\n",
    "df['CF_smooth'] = df['CF'].rolling(n).mean()\n",
    "\n",
    "# Behalten Sie nur jeden n-ten Schritt\n",
    "df = df[::n]\n",
    "\n",
    "# Speichern Sie den verkleinerten Dataframe\n",
    "df.to_excel(\"smooth_AT_PV.xlsx\", index=False)"
   ]
  },
  {
   "cell_type": "code",
   "execution_count": null,
   "id": "5fd79352",
   "metadata": {},
   "outputs": [],
   "source": []
  }
 ],
 "metadata": {
  "kernelspec": {
   "display_name": "Python 3 (ipykernel)",
   "language": "python",
   "name": "python3"
  },
  "language_info": {
   "codemirror_mode": {
    "name": "ipython",
    "version": 3
   },
   "file_extension": ".py",
   "mimetype": "text/x-python",
   "name": "python",
   "nbconvert_exporter": "python",
   "pygments_lexer": "ipython3",
   "version": "3.9.15"
  }
 },
 "nbformat": 4,
 "nbformat_minor": 5
}
