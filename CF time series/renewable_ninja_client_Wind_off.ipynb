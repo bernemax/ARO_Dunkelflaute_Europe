{
 "cells": [
  {
   "cell_type": "markdown",
   "metadata": {},
   "source": [
    "# Renewable Ninja API Client\n",
    "Renewable Ninja provides API access to renewable energy data. This notebook demonstrates how to use the API to retrieve data from the Renewable Ninja database. The API is documented at https://api.renewables.ninja. Before running the notebook, you need to create an account at https://www.renewables.ninja. The API key can be found in the user profile page. It is a string of 32 characters and is used to authenticate the user. The API key is passed as a parameter ``token`` in the notebook.\n",
    "\n",
    "The location of the data is specified by the latitude and longitude of the location. The latitude and longitude are passed as parameters ``lat`` and ``lon`` in the notebook. The latitude and longitude are specified in decimal degrees. Those data is written  in **locations.csv** file. The coordinates are taken from Google Maps."
   ]
  },
  {
   "cell_type": "markdown",
   "metadata": {},
   "source": [
    "## Prerequisites\n",
    "This notebook requires the following packages:\n",
    "- ``requests``, for making request to the API\n",
    "- ``csv``, for reading and writing csv files\n",
    "- ``os``, for creating directories\n",
    "- ``ratelimit``, for limiting the number of requests per second\n",
    "\n",
    "I recommend using the virtual environment to install the packages and run the notebook. The virtual environment can be created according to this [article](https://janakiev.com/blog/jupyter-virtual-envs/)."
   ]
  },
  {
   "cell_type": "code",
   "execution_count": 1,
   "metadata": {},
   "outputs": [
    {
     "name": "stdout",
     "output_type": "stream",
     "text": [
      "The locations from the csv file, which contains the name, longitude and latitude of the places.\n",
      "['ï»¿DE0', ' 54.1561', ' 7.6119']\n",
      "['DE6', ' 54.8706', ' 13.4659']\n",
      "['DK0', ' 56.6094', ' 6.3525']\n",
      "['DK1', ' 55.0019', ' 13.4773']\n",
      "['SE1', ' 56.1110', ' 18.1553']\n",
      "['SE0', ' 61.8783', ' 19.6846']\n",
      "['FR2', ' 50.3302', ' 0.5865']\n",
      "['FR3', ' 42.9636', ' 3.8229']\n",
      "['FR4', ' 48.4052', ' -6.5657']\n",
      "['FR6', ' 44.7125', ' -2.9282']\n",
      "['ES0', ' 44.0308', ' -4.9253']\n",
      "['ES1', ' 40.5828', ' 3.2155']\n",
      "['ES4', ' 39.2919', ' 3.6891']\n",
      "['IT2', ' 43.8575', ' 9.0527']\n",
      "['IT3', ' 38.9032', ' 15.0208']\n",
      "['IT4', ' 39.7882', ' 8.1298']\n",
      "['GB0', ' 51.6335', ' 1.7264']\n",
      "['GB1', ' 53.6953', ' -3.3654']\n",
      "['GB2', ' 58.0599', ' -1.4402']\n",
      "['GB3', ' 54.2562', ' 1.9063']\n",
      "['GB4', ' 51.3422', ' -4.6968']\n",
      "['GB5', ' 55.3859', ' -6.5140']\n"
     ]
    }
   ],
   "source": [
    "# Class Place to store the name, longitude and latitude of the places\n",
    "\n",
    "class Place:\n",
    "    def __init__(self, name: str, longitude: str, latitude: str):\n",
    "        self.name = name\n",
    "        self.longitude = longitude\n",
    "        self.latitude = latitude\n",
    "\n",
    "    def get_longitudes(places: list) -> list:\n",
    "        longitudes = []\n",
    "        for place in places:\n",
    "            longitudes.append(place.longitude)\n",
    "        return longitudes\n",
    "\n",
    "    def get_latitudes(places: list) -> list:\n",
    "        latitudes = []\n",
    "        for place in places:\n",
    "            latitudes.append(place.latitude)\n",
    "        return latitudes\n",
    "\n",
    "locations = []\n",
    "locations_input = \"locations.csv\"\n",
    "print(\"The locations from the csv file, which contains the name, longitude and latitude of the places.\")\n",
    "with open(locations_input, \"r\") as csv_file:\n",
    "    for line in csv_file:\n",
    "        line = line.strip()\n",
    "        line = line.split(\",\")\n",
    "        locations.append(Place(line[0], line[1], line[2]))\n",
    "        print(line)\n",
    "csv_file.close()"
   ]
  },
  {
   "cell_type": "code",
   "execution_count": 3,
   "metadata": {},
   "outputs": [],
   "source": [
    "#prepare libraries\n",
    "import requests\n",
    "import csv\n",
    "import os\n",
    "\n",
    "# Create the folder according to the name of the places\n",
    "for location in locations:\n",
    "    if not os.path.exists(location.name[:2]):\n",
    "        os.makedirs(location.name[:2],exist_ok=True)"
   ]
  },
  {
   "cell_type": "code",
   "execution_count": 4,
   "metadata": {},
   "outputs": [],
   "source": [
    "#prepare the api token and url\n",
    "#change the token to your own token\n",
    "token = '3d1b0043d0dd44a67cde548c518a8856a0d3f263'\n",
    "api_base = 'https://www.renewables.ninja/api/'"
   ]
  },
  {
   "cell_type": "code",
   "execution_count": 5,
   "metadata": {},
   "outputs": [],
   "source": [
    "#prepare the session\n",
    "s = requests.session()\n",
    "# Send token header with each request\n",
    "s.headers = {'Authorization': 'Token ' + token}\n",
    "\n",
    "url = api_base + 'data/wind'"
   ]
  },
  {
   "cell_type": "code",
   "execution_count": 8,
   "metadata": {},
   "outputs": [
    {
     "ename": "SyntaxError",
     "evalue": "invalid syntax (3496993144.py, line 1)",
     "output_type": "error",
     "traceback": [
      "\u001b[1;36m  Cell \u001b[1;32mIn [8], line 1\u001b[1;36m\u001b[0m\n\u001b[1;33m    pip install ratelimit\u001b[0m\n\u001b[1;37m        ^\u001b[0m\n\u001b[1;31mSyntaxError\u001b[0m\u001b[1;31m:\u001b[0m invalid syntax\n"
     ]
    }
   ],
   "source": [
    "from ratelimit import limits, sleep_and_retry\n",
    "\n",
    "# The API litmit is 50 requests per hour and 6 requests per minute that means 1 request per 72 seconds\n",
    "@sleep_and_retry\n",
    "@limits(calls=1, period=72)\n",
    "def make_api_call(year: str, place: Place):\n",
    "    # Construct the arguments for the API call\n",
    "    args = {\n",
    "            'lat': place.latitude,\n",
    "            'lon': place.longitude,\n",
    "            'date_from': str(year) + '-01-01',\n",
    "            'date_to': str(year) + '-12-31',\n",
    "            'dataset': 'merra2',\n",
    "            'capacity': 1.0,\n",
    "            'height': 105,\n",
    "            'turbine': 'Vestas V164 9500',\n",
    "            'format': 'csv'\n",
    "        }\n",
    "    r = s.get(url, params=args)\n",
    "    # Parse the CSV data from the response content\n",
    "    csv_data = csv.reader(r.text.splitlines(), delimiter=',')\n",
    "    # Write the CSV data to a file on disk\n",
    "    try:\n",
    "        with open(place.name[:2]+\"/\"+place.name+\"_\"+str(year)+'.csv', mode='w', newline='') as file:\n",
    "            writer = csv.writer(file)\n",
    "            # Skip first 3 lines in csv file because it contains the metadata\n",
    "            for i in range(3):\n",
    "                next(csv_data)\n",
    "            for row in csv_data:\n",
    "                writer.writerow(row)\n",
    "        file.close()\n",
    "    except:\n",
    "        print(\"Error while writing the file \"+place.name+\"_\"+str(year)+'.csv')"
   ]
  },
  {
   "cell_type": "code",
   "execution_count": 147,
   "metadata": {},
   "outputs": [
    {
     "name": "stdout",
     "output_type": "stream",
     "text": [
      "Downloading data for IT1 in 1985\n"
     ]
    }
   ],
   "source": [
    "#collect the data from 1980 to 2020\n",
    "for year in range(1980, 2021):\n",
    "    #iterate over the locations\n",
    "    for place in locations:\n",
    "        # Check if file already exists\n",
    "        if not os.path.exists(place.name[:2]+\"/\"+place.name+\"_\"+str(year)+'.csv'):\n",
    "            print(\"Downloading data for \"+place.name+\" in \"+str(year))\n",
    "            make_api_call(year, place)"
   ]
  },
  {
   "cell_type": "markdown",
   "metadata": {},
   "source": [
    "## Check if the downloaded data is complete\n",
    "The downloaded data is checked if the file presents and the first column of the last row is 31.12 of the according year."
   ]
  },
  {
   "cell_type": "code",
   "execution_count": 148,
   "metadata": {},
   "outputs": [
    {
     "name": "stdout",
     "output_type": "stream",
     "text": [
      "The file GB0_1986.csv is empty\n",
      "The file IE0_1987.csv is empty\n",
      "The file IT3_1989.csv is empty\n",
      "The file IT4_1989.csv is empty\n",
      "The file LV0_1990.csv is empty\n",
      "The file GB2_1996.csv is empty\n",
      "The file FR5_1996.csv is empty\n",
      "The file FR3_2001.csv is empty\n",
      "The file DE2_2002.csv is empty\n",
      "The file IT2_2005.csv is empty\n",
      "The file SE0_2006.csv is empty\n",
      "The file FR2_2010.csv is empty\n",
      "The file DE3_2011.csv is empty\n",
      "The file GB1_2015.csv is empty\n"
     ]
    }
   ],
   "source": [
    "# Set the flag variable to indicate whether all files were downloaded correctly\n",
    "all_downloaded = True\n",
    "# List of not correctly downloaded files\n",
    "not_downloaded = []\n",
    "\n",
    "for year in range(1980, 2021):\n",
    "    for place in locations:\n",
    "        if not os.path.exists(place.name[:2] + \"/\" + place.name + \"_\" + str(year) + '.csv'):\n",
    "            print(\"The file \" + place.name + \"_\" + str(year) + '.csv' + \" is not found\")\n",
    "            all_downloaded = False\n",
    "        else:\n",
    "            # Read the CSV file and extract the last row\n",
    "            with open(place.name[:2] + \"/\" + place.name + \"_\" + str(year) + '.csv', mode='r') as file:\n",
    "                reader = csv.reader(file,delimiter=',')\n",
    "                rows = list(reader)\n",
    "                if len(rows) == 0:\n",
    "                    print(\"The file \" + place.name + \"_\" + str(year) + '.csv' + \" is empty\")\n",
    "                    all_downloaded = False\n",
    "                    not_downloaded.append(place.name + \"_\" + str(year) + '.csv')\n",
    "                else:\n",
    "                    last_row = rows[-1]\n",
    "                    # Check if the first column of the last row is year-12-31 23:00\n",
    "                    if last_row[0] != str(year) + '-12-31 23:00':\n",
    "                        print(\"The file \" + place.name + \"_\" + str(year) + '.csv' + \" is not downloaded correctly\")\n",
    "                        all_downloaded = False\n",
    "                        not_downloaded.append(place.name + \"_\" + str(year) + '.csv')\n",
    "\n",
    "# Print a message indicating whether all files were downloaded correctly\n",
    "if all_downloaded:\n",
    "    print(\"All files were downloaded correctly.\")"
   ]
  },
  {
   "cell_type": "markdown",
   "metadata": {},
   "source": [
    "## Redownload the data in case of incomplete data"
   ]
  },
  {
   "cell_type": "code",
   "execution_count": 149,
   "metadata": {},
   "outputs": [
    {
     "name": "stdout",
     "output_type": "stream",
     "text": [
      "Redownloading the file GB0_1986.csv\n",
      "Redownloading the file IE0_1987.csv\n",
      "Redownloading the file IT3_1989.csv\n",
      "Redownloading the file IT4_1989.csv\n",
      "Redownloading the file LV0_1990.csv\n",
      "Redownloading the file GB2_1996.csv\n",
      "Redownloading the file FR5_1996.csv\n",
      "Redownloading the file FR3_2001.csv\n",
      "Redownloading the file DE2_2002.csv\n",
      "Redownloading the file IT2_2005.csv\n",
      "Redownloading the file SE0_2006.csv\n",
      "Redownloading the file FR2_2010.csv\n",
      "Redownloading the file DE3_2011.csv\n",
      "Redownloading the file GB1_2015.csv\n"
     ]
    }
   ],
   "source": [
    "# Redownload the files that were not downloaded correctly\n",
    "for file in not_downloaded:\n",
    "    print(\"Redownloading the file \" + file)\n",
    "    # Extract the name of the place and the year from the file name\n",
    "    place_name = file.split(\"_\")[0]\n",
    "    year = file.split(\"_\")[1].split(\".\")[0]\n",
    "    # Find the place object with the name\n",
    "    for place in locations:\n",
    "        if place.name == place_name:\n",
    "            make_api_call(year, place)"
   ]
  }
 ],
 "metadata": {
  "kernelspec": {
   "display_name": "Python 3 (ipykernel)",
   "language": "python",
   "name": "python3"
  },
  "language_info": {
   "codemirror_mode": {
    "name": "ipython",
    "version": 3
   },
   "file_extension": ".py",
   "mimetype": "text/x-python",
   "name": "python",
   "nbconvert_exporter": "python",
   "pygments_lexer": "ipython3",
   "version": "3.9.15"
  },
  "vscode": {
   "interpreter": {
    "hash": "a6df129ece7bad99003f490d728a98a42a829be765b744741c14b559e9f44ade"
   }
  }
 },
 "nbformat": 4,
 "nbformat_minor": 2
}
