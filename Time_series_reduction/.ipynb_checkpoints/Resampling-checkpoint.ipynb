{
 "cells": [
  {
   "cell_type": "code",
   "execution_count": 11,
   "id": "f3976393",
   "metadata": {},
   "outputs": [],
   "source": [
    "import pandas as pd\n",
    "\n",
    "df = pd.read_excel(\"Test_AT_DT_index.xlsx\")\n",
    "\n",
    "# setze Zeit als index\n",
    "df.set_index('time', inplace=True)\n",
    "\n",
    "# resample auf 30 Minuten Intervalle und berechne Mittelwert\n",
    "df_resampled = df.resample('1020T').mean()\n",
    "\n",
    "# reduziere auf 500 Einträge\n",
    "df_resampled = df_resampled.iloc[:500]\n",
    "\n",
    "# Speichern Sie den verkleinerten Dataframe\n",
    "df_resampled.to_excel(\"resampled_AT.xlsx\", index=False)"
   ]
  },
  {
   "cell_type": "code",
   "execution_count": null,
   "id": "00133178",
   "metadata": {},
   "outputs": [],
   "source": []
  }
 ],
 "metadata": {
  "kernelspec": {
   "display_name": "Python 3 (ipykernel)",
   "language": "python",
   "name": "python3"
  },
  "language_info": {
   "codemirror_mode": {
    "name": "ipython",
    "version": 3
   },
   "file_extension": ".py",
   "mimetype": "text/x-python",
   "name": "python",
   "nbconvert_exporter": "python",
   "pygments_lexer": "ipython3",
   "version": "3.9.15"
  }
 },
 "nbformat": 4,
 "nbformat_minor": 5
}
