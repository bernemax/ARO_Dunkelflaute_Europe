{
 "cells": [
  {
   "cell_type": "code",
   "execution_count": 33,
   "id": "8142b573",
   "metadata": {},
   "outputs": [],
   "source": [
    "from scipy.interpolate import interp1d\n",
    "import numpy as np\n",
    "\n",
    "# Laden Sie den Dataframe\n",
    "df = pd.read_excel(\"Test_AT_DT_index.xlsx\")\n",
    "\n",
    "df['time'] = pd.to_datetime(df['time'])\n",
    "df = df.set_index('time')\n",
    "\n",
    "# Erstellen Sie eine Liste der Zeitpunkte\n",
    "t = list(range(8760))\n",
    "t = df.index.values.astype(float)\n",
    "\n",
    "# Erstellen Sie eine Funktion zur Interpolation\n",
    "f = interp1d(t, df['load'], kind='cubic')\n",
    "\n",
    "# Erstellen Sie eine Liste der neuen Zeitpunkte, die innerhalb des Bereichs der ursprünglichen Zeitpunkte liegen\n",
    "new_t = np.linspace(t[0], t[-1], 500)\n",
    "\n",
    "# Interpolieren Sie die Last an den neuen Zeitpunkten\n",
    "interp_load = f(new_t)\n",
    "\n",
    "# Speichern Sie die interpolierte Zeitreihe in den Dataframe\n",
    "df_new = pd.DataFrame()\n",
    "df_new['interp_load'] = interp_load\n",
    "\n",
    "# Speichern Sie den verkleinerten Dataframe\n",
    "df_new.to_excel(\"interp_AT.xlsx\", index=False)"
   ]
  },
  {
   "cell_type": "code",
   "execution_count": null,
   "id": "03513e80",
   "metadata": {},
   "outputs": [],
   "source": []
  }
 ],
 "metadata": {
  "kernelspec": {
   "display_name": "Python 3 (ipykernel)",
   "language": "python",
   "name": "python3"
  },
  "language_info": {
   "codemirror_mode": {
    "name": "ipython",
    "version": 3
   },
   "file_extension": ".py",
   "mimetype": "text/x-python",
   "name": "python",
   "nbconvert_exporter": "python",
   "pygments_lexer": "ipython3",
   "version": "3.9.15"
  }
 },
 "nbformat": 4,
 "nbformat_minor": 5
}
