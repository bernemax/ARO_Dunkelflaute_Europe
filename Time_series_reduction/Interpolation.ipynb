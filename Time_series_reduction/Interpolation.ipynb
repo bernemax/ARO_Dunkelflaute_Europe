{
 "cells": [
  {
   "cell_type": "code",
   "execution_count": 10,
   "id": "8142b573",
   "metadata": {},
   "outputs": [],
   "source": [
    "import pandas as pd\n",
    "from scipy.interpolate import interp1d\n",
    "import numpy as np\n",
    "\n",
    "# Laden Sie den Dataframe\n",
    "#df = pd.read_excel(\"Test_DE_Wind_DT_index.xlsx\")\n",
    "#df = pd.read_excel(\"Test_DE_PV_DT_index.xlsx\")\n",
    "df = pd.read_excel(\"Test_DE_DT_index.xlsx\")\n",
    "\n",
    "df['time'] = pd.to_datetime(df['time'])\n",
    "df = df.set_index('time')\n",
    "\n",
    "# Erstellen Sie eine Liste der Zeitpunkte\n",
    "t = list(range(8760))\n",
    "t = df.index.values.astype(float)\n",
    "\n",
    "# Erstellen Sie eine Funktion zur Interpolation\n",
    "#f = interp1d(t, df['CF'], kind='cubic')\n",
    "f = interp1d(t, df['load'], kind='cubic')\n",
    "\n",
    "# Erstellen Sie eine Liste der neuen Zeitpunkte, die innerhalb des Bereichs der ursprünglichen Zeitpunkte liegen\n",
    "new_t = np.linspace(t[0], t[-1], 2000)\n",
    "\n",
    "# Interpolieren Sie die Last an den neuen Zeitpunkten\n",
    "interp_load = f(new_t)\n",
    "\n",
    "# Speichern Sie die interpolierte Zeitreihe in den Dataframe\n",
    "df_new = pd.DataFrame()\n",
    "df_new['interp_load'] = interp_load\n",
    "\n",
    "# Speichern Sie den verkleinerten Dataframe\n",
    "df_new.to_excel(\"interp_DE_load_2000.xlsx\", index=False)"
   ]
  },
  {
   "cell_type": "code",
   "execution_count": 37,
   "id": "02d29aba",
   "metadata": {},
   "outputs": [
    {
     "name": "stdout",
     "output_type": "stream",
     "text": [
      "[0.45843023 0.50369202 0.31121506 ... 0.01462505 0.03505866 0.06047647]\n",
      "[0.0888173  0.16780125 0.34891103 ... 0.45450586 0.5399631  0.64882201]\n",
      "[0.12517902 0.15749926 0.1295558  ... 0.0109311  0.02009183 0.02744697]\n",
      "[0.10388611 0.11541692 0.12338907 ... 0.0432688  0.06327145 0.05945965]\n",
      "[0.41931298 0.29243015 0.07500583 ... 0.81264784 0.48318516 0.30032513]\n",
      "[0.37280405 0.55312049 0.61155876 ... 0.43737047 0.34187508 0.25281343]\n",
      "[0.5395235  0.61362406 0.62896647 ... 0.35930733 0.30410652 0.1925145 ]\n",
      "[0.11087432 0.18487479 0.18187159 ... 0.76820671 0.58110601 0.4910674 ]\n",
      "[0.15923809 0.21770908 0.33071787 ... 0.13366358 0.10674969 0.11045217]\n",
      "[0.58258295 0.60352458 0.53839776 ... 0.21610736 0.19774292 0.21015126]\n",
      "[0.5376249  0.49994678 0.33185001 ... 0.32421649 0.35762734 0.49025905]\n"
     ]
    }
   ],
   "source": [
    "import pandas as pd\n",
    "from scipy.interpolate import interp1d\n",
    "import numpy as np\n",
    "\n",
    "# Laden Sie den Dataframe\n",
    "df = pd.read_excel(\"Test_Wind_Countries_DT_index.xlsx\")\n",
    "df = df.apply(pd.to_numeric, errors='coerce')\n",
    "\n",
    "df['time'] = pd.to_datetime(df['time'])\n",
    "df = df.set_index('time')\n",
    "\n",
    "# Erstellen Sie eine Liste der Zeitpunkte\n",
    "t = df.index.values.astype(float)\n",
    "\n",
    "# Erstellen Sie eine Liste der neuen Zeitpunkte, die innerhalb des Bereichs der ursprünglichen Zeitpunkte liegen\n",
    "new_t = np.linspace(t[0], t[-1], 2000)\n",
    "\n",
    "# Erstellen Sie eine leere DataFrame, um die interpolierten Werte zu speichern\n",
    "df_interp = pd.DataFrame(index=pd.to_datetime(new_t),columns=df.columns)\n",
    "\n",
    "# Schleife durch jede Spalte im ursprünglichen DataFrame und interpolieren Sie die Werte an den neuen Zeitpunkten\n",
    "for col in df.columns[:]:\n",
    "    # Interpolieren Sie die Werte der aktuellen Spalte an den neuen Zeitpunkten\n",
    "    f = interp1d(t, df[col], kind='cubic')\n",
    "    interp_vals = f(new_t)\n",
    "    print(interp_vals)\n",
    "    df_interp[col] = interp_vals\n",
    "\n",
    "df_interp.to_excel(\"interp_Wind_Countries_load_2000.xlsx\")"
   ]
  },
  {
   "cell_type": "code",
   "execution_count": null,
   "id": "45e6e0e8",
   "metadata": {},
   "outputs": [],
   "source": []
  }
 ],
 "metadata": {
  "kernelspec": {
   "display_name": "Python 3 (ipykernel)",
   "language": "python",
   "name": "python3"
  },
  "language_info": {
   "codemirror_mode": {
    "name": "ipython",
    "version": 3
   },
   "file_extension": ".py",
   "mimetype": "text/x-python",
   "name": "python",
   "nbconvert_exporter": "python",
   "pygments_lexer": "ipython3",
   "version": "3.9.15"
  }
 },
 "nbformat": 4,
 "nbformat_minor": 5
}
